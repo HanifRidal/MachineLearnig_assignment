{
  "cells": [
    {
      "cell_type": "markdown",
      "metadata": {
        "id": "view-in-github",
        "colab_type": "text"
      },
      "source": [
        "<a href=\"https://colab.research.google.com/github/HanifRidal/MachineLearning_assignment/blob/main/SKLearn_12_Logistic_Regression_pada_Binary_Classification_Task_Belajar_Machine_Learning_Dasar.ipynb\" target=\"_parent\"><img src=\"https://colab.research.google.com/assets/colab-badge.svg\" alt=\"Open In Colab\"/></a>"
      ]
    },
    {
      "cell_type": "code",
      "execution_count": null,
      "id": "685479ea-1a33-4a2c-a02f-0138e3a89424",
      "metadata": {
        "id": "685479ea-1a33-4a2c-a02f-0138e3a89424",
        "outputId": "d77d98cc-d2d9-4fdc-c577-322c8cb5b66a"
      },
      "outputs": [
        {
          "name": "stdout",
          "output_type": "stream",
          "text": [
            "Hanif Ridal Warits - 41155050210060\n"
          ]
        }
      ],
      "source": [
        "print('Hanif Ridal Warits - 41155050210060')"
      ]
    },
    {
      "cell_type": "raw",
      "id": "55ab66c4-1eb5-4dd2-8a38-9294e57feb70",
      "metadata": {
        "id": "55ab66c4-1eb5-4dd2-8a38-9294e57feb70"
      },
      "source": [
        "LOGISTIK REGRESSION pada BINARY CLASSIFICATION TASK"
      ]
    },
    {
      "cell_type": "raw",
      "id": "a1f3c3ee-d82e-498e-bdb0-288e6c747ab0",
      "metadata": {
        "id": "a1f3c3ee-d82e-498e-bdb0-288e6c747ab0"
      },
      "source": [
        "Dataset : SMS Spam Collection Data Set"
      ]
    },
    {
      "cell_type": "code",
      "execution_count": null,
      "id": "67fd43cf-c360-4312-8216-b9d591e93f04",
      "metadata": {
        "id": "67fd43cf-c360-4312-8216-b9d591e93f04",
        "outputId": "aa472a99-eb02-4bf1-f478-af488d02b7b1"
      },
      "outputs": [
        {
          "data": {
            "text/html": [
              "<div>\n",
              "<style scoped>\n",
              "    .dataframe tbody tr th:only-of-type {\n",
              "        vertical-align: middle;\n",
              "    }\n",
              "\n",
              "    .dataframe tbody tr th {\n",
              "        vertical-align: top;\n",
              "    }\n",
              "\n",
              "    .dataframe thead th {\n",
              "        text-align: right;\n",
              "    }\n",
              "</style>\n",
              "<table border=\"1\" class=\"dataframe\">\n",
              "  <thead>\n",
              "    <tr style=\"text-align: right;\">\n",
              "      <th></th>\n",
              "      <th>label</th>\n",
              "      <th>sms</th>\n",
              "    </tr>\n",
              "  </thead>\n",
              "  <tbody>\n",
              "    <tr>\n",
              "      <th>0</th>\n",
              "      <td>ham</td>\n",
              "      <td>Go until jurong point, crazy.. Available only ...</td>\n",
              "    </tr>\n",
              "    <tr>\n",
              "      <th>1</th>\n",
              "      <td>ham</td>\n",
              "      <td>Ok lar... Joking wif u oni...</td>\n",
              "    </tr>\n",
              "    <tr>\n",
              "      <th>2</th>\n",
              "      <td>spam</td>\n",
              "      <td>Free entry in 2 a wkly comp to win FA Cup fina...</td>\n",
              "    </tr>\n",
              "    <tr>\n",
              "      <th>3</th>\n",
              "      <td>ham</td>\n",
              "      <td>U dun say so early hor... U c already then say...</td>\n",
              "    </tr>\n",
              "    <tr>\n",
              "      <th>4</th>\n",
              "      <td>ham</td>\n",
              "      <td>Nah I don't think he goes to usf, he lives aro...</td>\n",
              "    </tr>\n",
              "  </tbody>\n",
              "</table>\n",
              "</div>"
            ],
            "text/plain": [
              "  label                                                sms\n",
              "0   ham  Go until jurong point, crazy.. Available only ...\n",
              "1   ham                      Ok lar... Joking wif u oni...\n",
              "2  spam  Free entry in 2 a wkly comp to win FA Cup fina...\n",
              "3   ham  U dun say so early hor... U c already then say...\n",
              "4   ham  Nah I don't think he goes to usf, he lives aro..."
            ]
          },
          "execution_count": 5,
          "metadata": {},
          "output_type": "execute_result"
        }
      ],
      "source": [
        "import pandas as pd\n",
        "\n",
        "df = pd.read_csv('./dataset/SMSSpamCollection',\n",
        "                sep='\\t',\n",
        "                header=None,\n",
        "                names=['label', 'sms'])\n",
        "df.head()"
      ]
    },
    {
      "cell_type": "code",
      "execution_count": null,
      "id": "9b4cd38f-fd32-4e06-8a86-65cf2c913171",
      "metadata": {
        "id": "9b4cd38f-fd32-4e06-8a86-65cf2c913171",
        "outputId": "827f6f5d-5880-4e26-ae0d-bc49a29b9855"
      },
      "outputs": [
        {
          "name": "stdout",
          "output_type": "stream",
          "text": [
            "Hanif Ridal Warits - 41155050210060\n",
            "\n"
          ]
        },
        {
          "data": {
            "text/plain": [
              "label\n",
              "ham     4825\n",
              "spam     747\n",
              "Name: count, dtype: int64"
            ]
          },
          "execution_count": 7,
          "metadata": {},
          "output_type": "execute_result"
        }
      ],
      "source": [
        "print('Hanif Ridal Warits - 41155050210060\\n')\n",
        "df['label'].value_counts()"
      ]
    },
    {
      "cell_type": "raw",
      "id": "37b49bf7-ff09-4838-bf35-ff0481791303",
      "metadata": {
        "id": "37b49bf7-ff09-4838-bf35-ff0481791303"
      },
      "source": [
        "Training & Testing Dataset"
      ]
    },
    {
      "cell_type": "code",
      "execution_count": null,
      "id": "b585443f-0685-43f1-aa27-d904a2bd91f3",
      "metadata": {
        "id": "b585443f-0685-43f1-aa27-d904a2bd91f3",
        "outputId": "ccb7b43f-89d8-4cd6-d875-5f9b8ef8daa5"
      },
      "outputs": [
        {
          "data": {
            "text/plain": [
              "array(['ham', 'spam'], dtype='<U4')"
            ]
          },
          "execution_count": 10,
          "metadata": {},
          "output_type": "execute_result"
        }
      ],
      "source": [
        "from sklearn.preprocessing import LabelBinarizer\n",
        "\n",
        "X = df['sms'].values\n",
        "y = df['label'].values\n",
        "\n",
        "lb = LabelBinarizer()\n",
        "y= lb.fit_transform(y).ravel() #ravel untuk mengembalikan array dari array 2 dimensi\n",
        "lb.classes_\n"
      ]
    },
    {
      "cell_type": "code",
      "execution_count": null,
      "id": "4c6202ec-1eb4-4f59-91a1-7aada64422d7",
      "metadata": {
        "id": "4c6202ec-1eb4-4f59-91a1-7aada64422d7",
        "outputId": "58156b4b-c714-4670-a8a0-4ca7be769bfd"
      },
      "outputs": [
        {
          "name": "stdout",
          "output_type": "stream",
          "text": [
            "['Its going good...no problem..but still need little experience to understand american customer voice...'\n",
            " 'U have a secret admirer. REVEAL who thinks U R So special. Call 09065174042. To opt out Reply REVEAL STOP. 1.50 per msg recd. Cust care 07821230901'\n",
            " 'Ok...' ...\n",
            " \"For ur chance to win a £250 cash every wk TXT: ACTION to 80608. T's&C's www.movietrivia.tv custcare 08712405022, 1x150p/wk\"\n",
            " 'R U &SAM P IN EACHOTHER. IF WE MEET WE CAN GO 2 MY HOUSE'\n",
            " 'Mm feeling sleepy. today itself i shall get that dear'] \n",
            "\n",
            "[0 1 0 ... 1 0 0]\n"
          ]
        }
      ],
      "source": [
        "from sklearn.model_selection import train_test_split\n",
        "\n",
        "X_train, X_test, y_train, y_test = train_test_split (X,\n",
        "                                                     y,\n",
        "                                                     test_size = 0.25,\n",
        "                                                     random_state=0)\n",
        "\n",
        "print (X_train, '\\n')\n",
        "print (y_train)\n"
      ]
    },
    {
      "cell_type": "raw",
      "id": "0552b8eb-eed5-4778-b76c-a895825589a9",
      "metadata": {
        "id": "0552b8eb-eed5-4778-b76c-a895825589a9"
      },
      "source": [
        "Features Extraction dengan TF-IDF\n",
        "#untuk extract dari text"
      ]
    },
    {
      "cell_type": "code",
      "execution_count": null,
      "id": "6c597206-3e10-40eb-ab81-328cb3d17865",
      "metadata": {
        "id": "6c597206-3e10-40eb-ab81-328cb3d17865",
        "outputId": "4915c56d-4c28-46cd-9d56-cbd0549bd93e"
      },
      "outputs": [
        {
          "name": "stdout",
          "output_type": "stream",
          "text": [
            "<Compressed Sparse Row sparse matrix of dtype 'float64'\n",
            "\twith 32656 stored elements and shape (4179, 7287)>\n",
            "  Coords\tValues\n",
            "  (0, 2997)\t0.23173982975834367\n",
            "  (0, 3007)\t0.21421364306658514\n",
            "  (0, 5123)\t0.308974289326673\n",
            "  (0, 4453)\t0.2297719954323795\n",
            "  (0, 3926)\t0.3126721340000456\n",
            "  (0, 2554)\t0.3825278811525034\n",
            "  (0, 6739)\t0.3546359942830148\n",
            "  (0, 900)\t0.4114867709157148\n",
            "  (0, 2006)\t0.2898082580285881\n",
            "  (0, 6903)\t0.3591386422223876\n",
            "  (1, 5642)\t0.24344998442301355\n",
            "  (1, 799)\t0.25048918791028574\n",
            "  (1, 5441)\t0.5009783758205715\n",
            "  (1, 6472)\t0.24039776602646504\n",
            "  (1, 6013)\t0.20089911182610476\n",
            "  (1, 216)\t0.28902673040368515\n",
            "  (1, 4677)\t0.24039776602646504\n",
            "  (1, 5394)\t0.16464655071448758\n",
            "  (1, 6131)\t0.16142609035094446\n",
            "  (1, 532)\t0.20186022353306565\n",
            "  (1, 4358)\t0.17341410292348694\n",
            "  (1, 5301)\t0.2711077935907125\n",
            "  (1, 2003)\t0.2711077935907125\n",
            "  (1, 1548)\t0.18167737976542422\n",
            "  (1, 36)\t0.28902673040368515\n",
            "  :\t:\n",
            "  (4176, 6792)\t0.1407604617250961\n",
            "  (4176, 6693)\t0.16491299289150899\n",
            "  (4176, 6684)\t0.22114159453800114\n",
            "  (4176, 7083)\t0.19523751585154273\n",
            "  (4176, 1569)\t0.18895085073406012\n",
            "  (4176, 7195)\t0.17892283441772988\n",
            "  (4176, 779)\t0.2811068572055718\n",
            "  (4176, 1612)\t0.21138425595332702\n",
            "  (4176, 365)\t0.2388005587702937\n",
            "  (4176, 7114)\t0.4512018097459442\n",
            "  (4176, 637)\t0.29968668460649284\n",
            "  (4176, 4350)\t0.29968668460649284\n",
            "  (4176, 2004)\t0.25589560236817055\n",
            "  (4176, 107)\t0.29968668460649284\n",
            "  (4176, 343)\t0.2811068572055718\n",
            "  (4177, 3319)\t0.43046342221720785\n",
            "  (4177, 4177)\t0.3636187667918345\n",
            "  (4177, 5565)\t0.5506066649743346\n",
            "  (4177, 2362)\t0.6158854885899457\n",
            "  (4178, 2068)\t0.3055766821331892\n",
            "  (4178, 2641)\t0.3993042639531407\n",
            "  (4178, 6555)\t0.2897850627168302\n",
            "  (4178, 5720)\t0.3963527249882828\n",
            "  (4178, 4279)\t0.4530624713751054\n",
            "  (4178, 5883)\t0.548491137555895\n"
          ]
        }
      ],
      "source": [
        "from sklearn.feature_extraction.text import TfidfVectorizer\n",
        "\n",
        "vectorizer = TfidfVectorizer(stop_words='english')\n",
        "\n",
        "X_train_tfidf = vectorizer.fit_transform(X_train)\n",
        "X_test_tfidf = vectorizer.transform(X_test)\n",
        "\n",
        "print(X_train_tfidf)"
      ]
    },
    {
      "cell_type": "raw",
      "id": "1417503d-ee4d-4272-834b-3befbaf33759",
      "metadata": {
        "id": "1417503d-ee4d-4272-834b-3befbaf33759"
      },
      "source": [
        "Binary Classification dengan Logistic Regression"
      ]
    },
    {
      "cell_type": "code",
      "execution_count": null,
      "id": "63b41489-4d5c-443c-92c2-ecc24720a0bc",
      "metadata": {
        "id": "63b41489-4d5c-443c-92c2-ecc24720a0bc",
        "outputId": "3d68f48b-386e-4b23-8d2e-94faf6d969ca"
      },
      "outputs": [
        {
          "name": "stdout",
          "output_type": "stream",
          "text": [
            "PRED: 0 - SMS: Storming msg: Wen u lift d phne, u say \"HELLO\" Do u knw wt is d real meaning of HELLO?? . . . It's d name of a girl..! . . . Yes.. And u knw who is dat girl?? \"Margaret Hello\" She is d girlfrnd f Grahmbell who invnted telphone... . . . . Moral:One can 4get d name of a person, bt not his girlfrnd... G o o d n i g h t . . .@\n",
            "\n",
            "PRED: 0 - SMS: <Forwarded from 448712404000>Please CALL 08712404000 immediately as there is an urgent message waiting for you.\n",
            "\n",
            "PRED: 0 - SMS: And also I've sorta blown him off a couple times recently so id rather not text him out of the blue looking for weed\n",
            "\n",
            "PRED: 0 - SMS: Sir Goodmorning, Once free call me.\n",
            "\n",
            "PRED: 0 - SMS: All will come alive.better correct any good looking figure there itself..\n",
            "\n"
          ]
        }
      ],
      "source": [
        "from sklearn.linear_model import LogisticRegression\n",
        "\n",
        "model = LogisticRegression()\n",
        "model.fit(X_train_tfidf, y_train)\n",
        "y_pred = model.predict(X_test_tfidf)\n",
        "\n",
        "for pred, sms in zip(y_pred[:5], X_test[:5]):\n",
        "    print (f'PRED: {pred} - SMS: {sms}\\n')"
      ]
    },
    {
      "cell_type": "raw",
      "id": "44439708-30b6-4be9-8430-fc4f087962a6",
      "metadata": {
        "id": "44439708-30b6-4be9-8430-fc4f087962a6"
      },
      "source": [
        "CONFUSION MATRIX\n",
        "sering kali dikenal dengan error matrix"
      ]
    },
    {
      "cell_type": "code",
      "execution_count": null,
      "id": "7c4917ef-095f-4de0-b6ec-57853a49bf0a",
      "metadata": {
        "id": "7c4917ef-095f-4de0-b6ec-57853a49bf0a",
        "outputId": "411e1eda-5843-4c20-84d3-7932c5d9d341"
      },
      "outputs": [
        {
          "data": {
            "text/plain": [
              "array([[1207,    1],\n",
              "       [  47,  138]])"
            ]
          },
          "execution_count": 14,
          "metadata": {},
          "output_type": "execute_result"
        }
      ],
      "source": [
        "from sklearn.metrics import confusion_matrix\n",
        "\n",
        "matrix = confusion_matrix(y_test, y_pred)\n",
        "matrix"
      ]
    },
    {
      "cell_type": "code",
      "execution_count": null,
      "id": "2fa4e071-6ab0-4abc-bdbf-165cb43d5da5",
      "metadata": {
        "id": "2fa4e071-6ab0-4abc-bdbf-165cb43d5da5",
        "outputId": "abe2988d-1a7d-4eeb-c3fc-4968f56a3868"
      },
      "outputs": [
        {
          "name": "stdout",
          "output_type": "stream",
          "text": [
            "Hanif Ridal Warits - 41155050210060\n",
            "\n",
            "TN: 1207\n",
            "FP: 1\n",
            "FN: 47\n",
            "TP: 138\n"
          ]
        }
      ],
      "source": [
        "tn, fp, fn, tp = matrix.ravel()\n",
        "\n",
        "\n",
        "print('Hanif Ridal Warits - 41155050210060\\n')\n",
        "print(f'TN: {tn}')\n",
        "print(f'FP: {fp}')\n",
        "print(f'FN: {fn}')\n",
        "print(f'TP: {tp}')"
      ]
    },
    {
      "cell_type": "code",
      "execution_count": null,
      "id": "65d26199-86f2-4345-8244-7b8b35ed8323",
      "metadata": {
        "id": "65d26199-86f2-4345-8244-7b8b35ed8323",
        "outputId": "01766c75-c0c8-4213-adc1-ae41a374fa58"
      },
      "outputs": [
        {
          "data": {
            "image/png": "[encoded data removed]",
            "text/plain": [
              "<Figure size 480x480 with 2 Axes>"
            ]
          },
          "metadata": {},
          "output_type": "display_data"
        },
        {
          "name": "stdout",
          "output_type": "stream",
          "text": [
            "Hanif Ridal Warits - 41155050210060\n",
            "\n"
          ]
        }
      ],
      "source": [
        "import matplotlib.pyplot as plt\n",
        "\n",
        "plt.matshow(matrix)\n",
        "plt.colorbar()\n",
        "\n",
        "plt.title('Confusion Matrix')\n",
        "plt.ylabel('True Label')\n",
        "plt.xlabel('Predicted Label')\n",
        "plt.show()\n",
        "\n",
        "print('Hanif Ridal Warits - 41155050210060\\n')"
      ]
    },
    {
      "cell_type": "raw",
      "id": "f3c32cf2-5ebe-414d-b099-8c51eb20fc5a",
      "metadata": {
        "id": "f3c32cf2-5ebe-414d-b099-8c51eb20fc5a"
      },
      "source": [
        "ACCURACY\n",
        "mengukur porsi dari prediksi yang tepat"
      ]
    },
    {
      "cell_type": "code",
      "execution_count": null,
      "id": "f4ff8f07-c6c9-4f47-85c2-f7cbb4fc58e8",
      "metadata": {
        "id": "f4ff8f07-c6c9-4f47-85c2-f7cbb4fc58e8",
        "outputId": "b22b3010-9a09-49f6-a294-eab994750e0d"
      },
      "outputs": [
        {
          "data": {
            "text/plain": [
              "0.9655419956927495"
            ]
          },
          "execution_count": 17,
          "metadata": {},
          "output_type": "execute_result"
        }
      ],
      "source": [
        "from sklearn.metrics import accuracy_score\n",
        "\n",
        "accuracy_score(y_test, y_pred)"
      ]
    },
    {
      "cell_type": "raw",
      "id": "5763d1eb-4642-4c2a-a608-3f540718b9ed",
      "metadata": {
        "id": "5763d1eb-4642-4c2a-a608-3f540718b9ed"
      },
      "source": [
        "PRECISSION & RECALL"
      ]
    },
    {
      "cell_type": "code",
      "execution_count": null,
      "id": "71d8c036-1145-4ea2-8641-3d131bed43ba",
      "metadata": {
        "id": "71d8c036-1145-4ea2-8641-3d131bed43ba",
        "outputId": "1b72b9be-5be2-41cd-a501-907e7e9c5075"
      },
      "outputs": [
        {
          "data": {
            "text/plain": [
              "np.float64(0.9928057553956835)"
            ]
          },
          "execution_count": 18,
          "metadata": {},
          "output_type": "execute_result"
        }
      ],
      "source": [
        "from sklearn.metrics import precision_score\n",
        "\n",
        "precision_score(y_test, y_pred)"
      ]
    },
    {
      "cell_type": "code",
      "execution_count": null,
      "id": "2303c7c9-5dc5-4076-8342-282961ba6d9c",
      "metadata": {
        "id": "2303c7c9-5dc5-4076-8342-282961ba6d9c",
        "outputId": "6b32cb56-d33e-4dac-dde4-189b6433928e"
      },
      "outputs": [
        {
          "data": {
            "text/plain": [
              "np.float64(0.745945945945946)"
            ]
          },
          "execution_count": 22,
          "metadata": {},
          "output_type": "execute_result"
        }
      ],
      "source": [
        "from sklearn.metrics import recall_score\n",
        "\n",
        "recall_score(y_test, y_pred)"
      ]
    },
    {
      "cell_type": "raw",
      "id": "dfbe3f8d-0e83-4673-b439-e7555afcd731",
      "metadata": {
        "id": "dfbe3f8d-0e83-4673-b439-e7555afcd731"
      },
      "source": [
        "F1-SCORE\n",
        "atau F1-measure adalah harmonic mean dari precission dan recall"
      ]
    },
    {
      "cell_type": "code",
      "execution_count": null,
      "id": "16661702-1be9-44ad-b25b-455690eade1e",
      "metadata": {
        "id": "16661702-1be9-44ad-b25b-455690eade1e",
        "outputId": "2bcf6e8c-0cad-4dd7-a9e7-ec9a8246483a"
      },
      "outputs": [
        {
          "data": {
            "text/plain": [
              "np.float64(0.8518518518518519)"
            ]
          },
          "execution_count": 23,
          "metadata": {},
          "output_type": "execute_result"
        }
      ],
      "source": [
        "from sklearn.metrics import f1_score\n",
        "\n",
        "f1_score(y_test, y_pred)"
      ]
    },
    {
      "cell_type": "code",
      "execution_count": null,
      "id": "03228968-1788-4a6c-97f5-e15d821787b1",
      "metadata": {
        "id": "03228968-1788-4a6c-97f5-e15d821787b1",
        "outputId": "361bbe23-32e0-40ed-ca4d-4375e02b333f"
      },
      "outputs": [
        {
          "name": "stdout",
          "output_type": "stream",
          "text": [
            "Hanif Ridal Warits - 41155050210060\n",
            "\n"
          ]
        }
      ],
      "source": [
        "print('Hanif Ridal Warits - 41155050210060\\n')"
      ]
    },
    {
      "cell_type": "raw",
      "id": "25a46929-349e-4a4c-93be-ddb233e4c4ec",
      "metadata": {
        "id": "25a46929-349e-4a4c-93be-ddb233e4c4ec"
      },
      "source": [
        "ROC : RECEIVER OPERATING CHARACTERISTIC\n",
        "menawarkan visualisasi terhadap performa dari classifier dengan membandingkan nilai recall(TPR) dengan nilai Fallout(FPR)"
      ]
    },
    {
      "cell_type": "code",
      "execution_count": null,
      "id": "c4d37d1f-9034-4a59-9435-369d66f4d105",
      "metadata": {
        "id": "c4d37d1f-9034-4a59-9435-369d66f4d105",
        "outputId": "5cc329b5-6946-4c69-e4b7-a9ae469e6bb6"
      },
      "outputs": [
        {
          "data": {
            "image/png": "[encoded data removed]",
            "text/plain": [
              "<Figure size 640x480 with 1 Axes>"
            ]
          },
          "metadata": {},
          "output_type": "display_data"
        }
      ],
      "source": [
        "from sklearn.metrics import roc_curve, auc\n",
        "\n",
        "prob_estimates = model.predict_proba(X_test_tfidf)\n",
        "fpr, tpr, threshold = roc_curve(y_test, prob_estimates[:, 1])\n",
        "nilai_auc = auc(fpr, tpr)\n",
        "\n",
        "plt.plot(fpr, tpr, 'b', label=f'AUC={nilai_auc}')\n",
        "plt.plot([0, 1], [0, 1], 'r--', label='Random Classifier')\n",
        "\n",
        "plt.title('ROC: Receiver Operating Characteristic')\n",
        "plt.xlabel('Fallout or False Positive Rate')\n",
        "plt.ylabel('Recall or True Positive Rate')\n",
        "plt.legend()\n",
        "plt.show()\n"
      ]
    },
    {
      "cell_type": "code",
      "execution_count": null,
      "id": "509ebd4c-f92b-439f-a828-9d134c6725eb",
      "metadata": {
        "id": "509ebd4c-f92b-439f-a828-9d134c6725eb",
        "outputId": "9c5d5bb0-ffc4-40a4-d768-87f3512e67dc"
      },
      "outputs": [
        {
          "name": "stdout",
          "output_type": "stream",
          "text": [
            "Hanif Ridal Warits - 41155050210060\n",
            "\n"
          ]
        }
      ],
      "source": [
        "print('Hanif Ridal Warits - 41155050210060\\n')"
      ]
    }
  ],
  "metadata": {
    "kernelspec": {
      "display_name": "Python 3 (ipykernel)",
      "language": "python",
      "name": "python3"
    },
    "language_info": {
      "codemirror_mode": {
        "name": "ipython",
        "version": 3
      },
      "file_extension": ".py",
      "mimetype": "text/x-python",
      "name": "python",
      "nbconvert_exporter": "python",
      "pygments_lexer": "ipython3",
      "version": "3.12.7"
    },
    "colab": {
      "provenance": [],
      "include_colab_link": true
    }
  },
  "nbformat": 4,
  "nbformat_minor": 5
}