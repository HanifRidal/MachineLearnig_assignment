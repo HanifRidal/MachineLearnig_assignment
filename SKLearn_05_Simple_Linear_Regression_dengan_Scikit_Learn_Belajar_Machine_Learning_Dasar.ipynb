{
  "cells": [
    {
      "cell_type": "markdown",
      "metadata": {
        "id": "view-in-github",
        "colab_type": "text"
      },
      "source": [
        "<a href=\"https://colab.research.google.com/github/HanifRidal/MachineLearning_assignment/blob/main/SKLearn_05_Simple_Linear_Regression_dengan_Scikit_Learn_Belajar_Machine_Learning_Dasar.ipynb\" target=\"_parent\"><img src=\"https://colab.research.google.com/assets/colab-badge.svg\" alt=\"Open In Colab\"/></a>"
      ]
    },
    {
      "cell_type": "code",
      "execution_count": null,
      "id": "be4a6e45-b905-4a13-a0fd-047c867481b6",
      "metadata": {
        "id": "be4a6e45-b905-4a13-a0fd-047c867481b6",
        "outputId": "fb94443e-d1c8-4ae3-be08-6d17e72ae239"
      },
      "outputs": [
        {
          "name": "stdout",
          "output_type": "stream",
          "text": [
            "Hanif Ridal Warits - 41155050210060\n"
          ]
        }
      ],
      "source": [
        "print('Hanif Ridal Warits - 41155050210060')"
      ]
    },
    {
      "cell_type": "raw",
      "id": "dbf7610d-4b6a-4b0c-acb9-05eb8c10955e",
      "metadata": {
        "id": "dbf7610d-4b6a-4b0c-acb9-05eb8c10955e"
      },
      "source": [
        "05 SIMPLE LINEAR REGRESSION"
      ]
    },
    {
      "cell_type": "raw",
      "id": "70e0305f-b411-4e73-9d4d-a14fbfe4ca50",
      "metadata": {
        "id": "70e0305f-b411-4e73-9d4d-a14fbfe4ca50"
      },
      "source": [
        "Simple Linear Regression memodelkan hubungan antara sebuah response variable dengan sebuah explanatory variable sebagai sebuah suatu garis lurus(linear)"
      ]
    },
    {
      "cell_type": "code",
      "execution_count": null,
      "id": "9308e5e3-8df1-458d-ae8b-442983267b6c",
      "metadata": {
        "id": "9308e5e3-8df1-458d-ae8b-442983267b6c",
        "outputId": "387a5aee-e12c-4ada-a306-005556f1dd60"
      },
      "outputs": [
        {
          "data": {
            "text/html": [
              "<div>\n",
              "<style scoped>\n",
              "    .dataframe tbody tr th:only-of-type {\n",
              "        vertical-align: middle;\n",
              "    }\n",
              "\n",
              "    .dataframe tbody tr th {\n",
              "        vertical-align: top;\n",
              "    }\n",
              "\n",
              "    .dataframe thead th {\n",
              "        text-align: right;\n",
              "    }\n",
              "</style>\n",
              "<table border=\"1\" class=\"dataframe\">\n",
              "  <thead>\n",
              "    <tr style=\"text-align: right;\">\n",
              "      <th></th>\n",
              "      <th>diameter</th>\n",
              "      <th>price</th>\n",
              "    </tr>\n",
              "  </thead>\n",
              "  <tbody>\n",
              "    <tr>\n",
              "      <th>0</th>\n",
              "      <td>6</td>\n",
              "      <td>7.0</td>\n",
              "    </tr>\n",
              "    <tr>\n",
              "      <th>1</th>\n",
              "      <td>8</td>\n",
              "      <td>9.0</td>\n",
              "    </tr>\n",
              "    <tr>\n",
              "      <th>2</th>\n",
              "      <td>10</td>\n",
              "      <td>13.0</td>\n",
              "    </tr>\n",
              "    <tr>\n",
              "      <th>3</th>\n",
              "      <td>14</td>\n",
              "      <td>17.5</td>\n",
              "    </tr>\n",
              "    <tr>\n",
              "      <th>4</th>\n",
              "      <td>18</td>\n",
              "      <td>18.0</td>\n",
              "    </tr>\n",
              "  </tbody>\n",
              "</table>\n",
              "</div>"
            ],
            "text/plain": [
              "   diameter  price\n",
              "0         6    7.0\n",
              "1         8    9.0\n",
              "2        10   13.0\n",
              "3        14   17.5\n",
              "4        18   18.0"
            ]
          },
          "execution_count": 47,
          "metadata": {},
          "output_type": "execute_result"
        }
      ],
      "source": [
        "import pandas as pd\n",
        "\n",
        "pizza = {'diameter': [6, 8, 10, 14, 18],\n",
        "         'price' : [7, 9, 13, 17.5, 18]}\n",
        "pizza_df = pd.DataFrame(pizza)\n",
        "pizza_df"
      ]
    },
    {
      "cell_type": "markdown",
      "id": "6024f824-9d34-4dce-8460-479013dea3db",
      "metadata": {
        "id": "6024f824-9d34-4dce-8460-479013dea3db"
      },
      "source": [
        "Visualisasi Data"
      ]
    },
    {
      "cell_type": "code",
      "execution_count": null,
      "id": "531d2ec3-2fbf-4094-942e-c1312df87e60",
      "metadata": {
        "id": "531d2ec3-2fbf-4094-942e-c1312df87e60",
        "outputId": "5500a0bf-8b0f-4d7e-c982-37d62667d111"
      },
      "outputs": [
        {
          "data": {
            "image/png": "[encoded data removed]",
            "text/plain": [
              "<Figure size 640x480 with 1 Axes>"
            ]
          },
          "metadata": {},
          "output_type": "display_data"
        }
      ],
      "source": [
        "import matplotlib.pyplot as plt\n",
        "\n",
        "pizza_df.plot(kind='scatter', x='diameter', y='price')\n",
        "\n",
        "plt.title('Perbandingan harga dan diameter pizza')\n",
        "plt.xlabel('Diameter (inch)')\n",
        "plt.ylabel('Harga (dollar)')\n",
        "plt.xlim(0, 25)\n",
        "plt.ylim(0, 25)\n",
        "plt.grid(True)\n",
        "plt.show()"
      ]
    },
    {
      "cell_type": "raw",
      "id": "d2a8c259-f574-456f-a428-45f51cd7c44c",
      "metadata": {
        "id": "d2a8c259-f574-456f-a428-45f51cd7c44c"
      },
      "source": [
        "PENYESUAIAN DATASET"
      ]
    },
    {
      "cell_type": "code",
      "execution_count": null,
      "id": "67e3307f-1bf2-4e79-a427-9d5d8be8919d",
      "metadata": {
        "id": "67e3307f-1bf2-4e79-a427-9d5d8be8919d",
        "outputId": "33c401d0-0e35-478a-a49a-af13fab997b3"
      },
      "outputs": [
        {
          "name": "stdout",
          "output_type": "stream",
          "text": [
            "X: [ 6  8 10 14 18]\n",
            "y: [ 7.   9.  13.  17.5 18. ]\n"
          ]
        }
      ],
      "source": [
        "import numpy as np\n",
        "\n",
        "X = np.array(pizza_df['diameter'])\n",
        "y = np.array(pizza_df['price'])\n",
        "\n",
        "print(f'X: {X}')\n",
        "print(f'y: {y}')"
      ]
    },
    {
      "cell_type": "code",
      "execution_count": null,
      "id": "a7534502-cd35-4a2e-90f4-886bb4e2b59e",
      "metadata": {
        "id": "a7534502-cd35-4a2e-90f4-886bb4e2b59e",
        "outputId": "c04ce7e5-92fe-44ff-c76a-5ffee9ee5707"
      },
      "outputs": [
        {
          "data": {
            "text/plain": [
              "(5, 1)"
            ]
          },
          "execution_count": 50,
          "metadata": {},
          "output_type": "execute_result"
        }
      ],
      "source": [
        "X = X.reshape(-1,1)\n",
        "X.shape"
      ]
    },
    {
      "cell_type": "code",
      "execution_count": null,
      "id": "366a9ea4-867e-469c-ae4a-f07d3a275cb3",
      "metadata": {
        "id": "366a9ea4-867e-469c-ae4a-f07d3a275cb3",
        "outputId": "55b241fe-4467-4a00-8304-1a7890636503"
      },
      "outputs": [
        {
          "data": {
            "text/plain": [
              "array([[ 6],\n",
              "       [ 8],\n",
              "       [10],\n",
              "       [14],\n",
              "       [18]])"
            ]
          },
          "execution_count": 51,
          "metadata": {},
          "output_type": "execute_result"
        }
      ],
      "source": [
        "X"
      ]
    },
    {
      "cell_type": "raw",
      "id": "55b864d7-91f1-4821-adf0-aeb6fc3a9963",
      "metadata": {
        "id": "55b864d7-91f1-4821-adf0-aeb6fc3a9963"
      },
      "source": [
        "TRAINING SIMPLE LINEAR REGRESSION"
      ]
    },
    {
      "cell_type": "code",
      "execution_count": null,
      "id": "acd0ec45-f7c9-4111-965a-4ddfc2a1cc82",
      "metadata": {
        "id": "acd0ec45-f7c9-4111-965a-4ddfc2a1cc82",
        "outputId": "c1448697-53c9-4dee-dad6-d0b1fc04e225"
      },
      "outputs": [
        {
          "data": {
            "text/html": [
              "<style>#sk-container-id-2 {\n",
              "  /* Definition of color scheme common for light and dark mode */\n",
              "  --sklearn-color-text: black;\n",
              "  --sklearn-color-line: gray;\n",
              "  /* Definition of color scheme for unfitted estimators */\n",
              "  --sklearn-color-unfitted-level-0: #fff5e6;\n",
              "  --sklearn-color-unfitted-level-1: #f6e4d2;\n",
              "  --sklearn-color-unfitted-level-2: #ffe0b3;\n",
              "  --sklearn-color-unfitted-level-3: chocolate;\n",
              "  /* Definition of color scheme for fitted estimators */\n",
              "  --sklearn-color-fitted-level-0: #f0f8ff;\n",
              "  --sklearn-color-fitted-level-1: #d4ebff;\n",
              "  --sklearn-color-fitted-level-2: #b3dbfd;\n",
              "  --sklearn-color-fitted-level-3: cornflowerblue;\n",
              "\n",
              "  /* Specific color for light theme */\n",
              "  --sklearn-color-text-on-default-background: var(--sg-text-color, var(--theme-code-foreground, var(--jp-content-font-color1, black)));\n",
              "  --sklearn-color-background: var(--sg-background-color, var(--theme-background, var(--jp-layout-color0, white)));\n",
              "  --sklearn-color-border-box: var(--sg-text-color, var(--theme-code-foreground, var(--jp-content-font-color1, black)));\n",
              "  --sklearn-color-icon: #696969;\n",
              "\n",
              "  @media (prefers-color-scheme: dark) {\n",
              "    /* Redefinition of color scheme for dark theme */\n",
              "    --sklearn-color-text-on-default-background: var(--sg-text-color, var(--theme-code-foreground, var(--jp-content-font-color1, white)));\n",
              "    --sklearn-color-background: var(--sg-background-color, var(--theme-background, var(--jp-layout-color0, #111)));\n",
              "    --sklearn-color-border-box: var(--sg-text-color, var(--theme-code-foreground, var(--jp-content-font-color1, white)));\n",
              "    --sklearn-color-icon: #878787;\n",
              "  }\n",
              "}\n",
              "\n",
              "#sk-container-id-2 {\n",
              "  color: var(--sklearn-color-text);\n",
              "}\n",
              "\n",
              "#sk-container-id-2 pre {\n",
              "  padding: 0;\n",
              "}\n",
              "\n",
              "#sk-container-id-2 input.sk-hidden--visually {\n",
              "  border: 0;\n",
              "  clip: rect(1px 1px 1px 1px);\n",
              "  clip: rect(1px, 1px, 1px, 1px);\n",
              "  height: 1px;\n",
              "  margin: -1px;\n",
              "  overflow: hidden;\n",
              "  padding: 0;\n",
              "  position: absolute;\n",
              "  width: 1px;\n",
              "}\n",
              "\n",
              "#sk-container-id-2 div.sk-dashed-wrapped {\n",
              "  border: 1px dashed var(--sklearn-color-line);\n",
              "  margin: 0 0.4em 0.5em 0.4em;\n",
              "  box-sizing: border-box;\n",
              "  padding-bottom: 0.4em;\n",
              "  background-color: var(--sklearn-color-background);\n",
              "}\n",
              "\n",
              "#sk-container-id-2 div.sk-container {\n",
              "  /* jupyter's `normalize.less` sets `[hidden] { display: none; }`\n",
              "     but bootstrap.min.css set `[hidden] { display: none !important; }`\n",
              "     so we also need the `!important` here to be able to override the\n",
              "     default hidden behavior on the sphinx rendered scikit-learn.org.\n",
              "     See: https://github.com/scikit-learn/scikit-learn/issues/21755 */\n",
              "  display: inline-block !important;\n",
              "  position: relative;\n",
              "}\n",
              "\n",
              "#sk-container-id-2 div.sk-text-repr-fallback {\n",
              "  display: none;\n",
              "}\n",
              "\n",
              "div.sk-parallel-item,\n",
              "div.sk-serial,\n",
              "div.sk-item {\n",
              "  /* draw centered vertical line to link estimators */\n",
              "  background-image: linear-gradient(var(--sklearn-color-text-on-default-background), var(--sklearn-color-text-on-default-background));\n",
              "  background-size: 2px 100%;\n",
              "  background-repeat: no-repeat;\n",
              "  background-position: center center;\n",
              "}\n",
              "\n",
              "/* Parallel-specific style estimator block */\n",
              "\n",
              "#sk-container-id-2 div.sk-parallel-item::after {\n",
              "  content: \"\";\n",
              "  width: 100%;\n",
              "  border-bottom: 2px solid var(--sklearn-color-text-on-default-background);\n",
              "  flex-grow: 1;\n",
              "}\n",
              "\n",
              "#sk-container-id-2 div.sk-parallel {\n",
              "  display: flex;\n",
              "  align-items: stretch;\n",
              "  justify-content: center;\n",
              "  background-color: var(--sklearn-color-background);\n",
              "  position: relative;\n",
              "}\n",
              "\n",
              "#sk-container-id-2 div.sk-parallel-item {\n",
              "  display: flex;\n",
              "  flex-direction: column;\n",
              "}\n",
              "\n",
              "#sk-container-id-2 div.sk-parallel-item:first-child::after {\n",
              "  align-self: flex-end;\n",
              "  width: 50%;\n",
              "}\n",
              "\n",
              "#sk-container-id-2 div.sk-parallel-item:last-child::after {\n",
              "  align-self: flex-start;\n",
              "  width: 50%;\n",
              "}\n",
              "\n",
              "#sk-container-id-2 div.sk-parallel-item:only-child::after {\n",
              "  width: 0;\n",
              "}\n",
              "\n",
              "/* Serial-specific style estimator block */\n",
              "\n",
              "#sk-container-id-2 div.sk-serial {\n",
              "  display: flex;\n",
              "  flex-direction: column;\n",
              "  align-items: center;\n",
              "  background-color: var(--sklearn-color-background);\n",
              "  padding-right: 1em;\n",
              "  padding-left: 1em;\n",
              "}\n",
              "\n",
              "\n",
              "/* Toggleable style: style used for estimator/Pipeline/ColumnTransformer box that is\n",
              "clickable and can be expanded/collapsed.\n",
              "- Pipeline and ColumnTransformer use this feature and define the default style\n",
              "- Estimators will overwrite some part of the style using the `sk-estimator` class\n",
              "*/\n",
              "\n",
              "/* Pipeline and ColumnTransformer style (default) */\n",
              "\n",
              "#sk-container-id-2 div.sk-toggleable {\n",
              "  /* Default theme specific background. It is overwritten whether we have a\n",
              "  specific estimator or a Pipeline/ColumnTransformer */\n",
              "  background-color: var(--sklearn-color-background);\n",
              "}\n",
              "\n",
              "/* Toggleable label */\n",
              "#sk-container-id-2 label.sk-toggleable__label {\n",
              "  cursor: pointer;\n",
              "  display: block;\n",
              "  width: 100%;\n",
              "  margin-bottom: 0;\n",
              "  padding: 0.5em;\n",
              "  box-sizing: border-box;\n",
              "  text-align: center;\n",
              "}\n",
              "\n",
              "#sk-container-id-2 label.sk-toggleable__label-arrow:before {\n",
              "  /* Arrow on the left of the label */\n",
              "  content: \"▸\";\n",
              "  float: left;\n",
              "  margin-right: 0.25em;\n",
              "  color: var(--sklearn-color-icon);\n",
              "}\n",
              "\n",
              "#sk-container-id-2 label.sk-toggleable__label-arrow:hover:before {\n",
              "  color: var(--sklearn-color-text);\n",
              "}\n",
              "\n",
              "/* Toggleable content - dropdown */\n",
              "\n",
              "#sk-container-id-2 div.sk-toggleable__content {\n",
              "  max-height: 0;\n",
              "  max-width: 0;\n",
              "  overflow: hidden;\n",
              "  text-align: left;\n",
              "  /* unfitted */\n",
              "  background-color: var(--sklearn-color-unfitted-level-0);\n",
              "}\n",
              "\n",
              "#sk-container-id-2 div.sk-toggleable__content.fitted {\n",
              "  /* fitted */\n",
              "  background-color: var(--sklearn-color-fitted-level-0);\n",
              "}\n",
              "\n",
              "#sk-container-id-2 div.sk-toggleable__content pre {\n",
              "  margin: 0.2em;\n",
              "  border-radius: 0.25em;\n",
              "  color: var(--sklearn-color-text);\n",
              "  /* unfitted */\n",
              "  background-color: var(--sklearn-color-unfitted-level-0);\n",
              "}\n",
              "\n",
              "#sk-container-id-2 div.sk-toggleable__content.fitted pre {\n",
              "  /* unfitted */\n",
              "  background-color: var(--sklearn-color-fitted-level-0);\n",
              "}\n",
              "\n",
              "#sk-container-id-2 input.sk-toggleable__control:checked~div.sk-toggleable__content {\n",
              "  /* Expand drop-down */\n",
              "  max-height: 200px;\n",
              "  max-width: 100%;\n",
              "  overflow: auto;\n",
              "}\n",
              "\n",
              "#sk-container-id-2 input.sk-toggleable__control:checked~label.sk-toggleable__label-arrow:before {\n",
              "  content: \"▾\";\n",
              "}\n",
              "\n",
              "/* Pipeline/ColumnTransformer-specific style */\n",
              "\n",
              "#sk-container-id-2 div.sk-label input.sk-toggleable__control:checked~label.sk-toggleable__label {\n",
              "  color: var(--sklearn-color-text);\n",
              "  background-color: var(--sklearn-color-unfitted-level-2);\n",
              "}\n",
              "\n",
              "#sk-container-id-2 div.sk-label.fitted input.sk-toggleable__control:checked~label.sk-toggleable__label {\n",
              "  background-color: var(--sklearn-color-fitted-level-2);\n",
              "}\n",
              "\n",
              "/* Estimator-specific style */\n",
              "\n",
              "/* Colorize estimator box */\n",
              "#sk-container-id-2 div.sk-estimator input.sk-toggleable__control:checked~label.sk-toggleable__label {\n",
              "  /* unfitted */\n",
              "  background-color: var(--sklearn-color-unfitted-level-2);\n",
              "}\n",
              "\n",
              "#sk-container-id-2 div.sk-estimator.fitted input.sk-toggleable__control:checked~label.sk-toggleable__label {\n",
              "  /* fitted */\n",
              "  background-color: var(--sklearn-color-fitted-level-2);\n",
              "}\n",
              "\n",
              "#sk-container-id-2 div.sk-label label.sk-toggleable__label,\n",
              "#sk-container-id-2 div.sk-label label {\n",
              "  /* The background is the default theme color */\n",
              "  color: var(--sklearn-color-text-on-default-background);\n",
              "}\n",
              "\n",
              "/* On hover, darken the color of the background */\n",
              "#sk-container-id-2 div.sk-label:hover label.sk-toggleable__label {\n",
              "  color: var(--sklearn-color-text);\n",
              "  background-color: var(--sklearn-color-unfitted-level-2);\n",
              "}\n",
              "\n",
              "/* Label box, darken color on hover, fitted */\n",
              "#sk-container-id-2 div.sk-label.fitted:hover label.sk-toggleable__label.fitted {\n",
              "  color: var(--sklearn-color-text);\n",
              "  background-color: var(--sklearn-color-fitted-level-2);\n",
              "}\n",
              "\n",
              "/* Estimator label */\n",
              "\n",
              "#sk-container-id-2 div.sk-label label {\n",
              "  font-family: monospace;\n",
              "  font-weight: bold;\n",
              "  display: inline-block;\n",
              "  line-height: 1.2em;\n",
              "}\n",
              "\n",
              "#sk-container-id-2 div.sk-label-container {\n",
              "  text-align: center;\n",
              "}\n",
              "\n",
              "/* Estimator-specific */\n",
              "#sk-container-id-2 div.sk-estimator {\n",
              "  font-family: monospace;\n",
              "  border: 1px dotted var(--sklearn-color-border-box);\n",
              "  border-radius: 0.25em;\n",
              "  box-sizing: border-box;\n",
              "  margin-bottom: 0.5em;\n",
              "  /* unfitted */\n",
              "  background-color: var(--sklearn-color-unfitted-level-0);\n",
              "}\n",
              "\n",
              "#sk-container-id-2 div.sk-estimator.fitted {\n",
              "  /* fitted */\n",
              "  background-color: var(--sklearn-color-fitted-level-0);\n",
              "}\n",
              "\n",
              "/* on hover */\n",
              "#sk-container-id-2 div.sk-estimator:hover {\n",
              "  /* unfitted */\n",
              "  background-color: var(--sklearn-color-unfitted-level-2);\n",
              "}\n",
              "\n",
              "#sk-container-id-2 div.sk-estimator.fitted:hover {\n",
              "  /* fitted */\n",
              "  background-color: var(--sklearn-color-fitted-level-2);\n",
              "}\n",
              "\n",
              "/* Specification for estimator info (e.g. \"i\" and \"?\") */\n",
              "\n",
              "/* Common style for \"i\" and \"?\" */\n",
              "\n",
              ".sk-estimator-doc-link,\n",
              "a:link.sk-estimator-doc-link,\n",
              "a:visited.sk-estimator-doc-link {\n",
              "  float: right;\n",
              "  font-size: smaller;\n",
              "  line-height: 1em;\n",
              "  font-family: monospace;\n",
              "  background-color: var(--sklearn-color-background);\n",
              "  border-radius: 1em;\n",
              "  height: 1em;\n",
              "  width: 1em;\n",
              "  text-decoration: none !important;\n",
              "  margin-left: 1ex;\n",
              "  /* unfitted */\n",
              "  border: var(--sklearn-color-unfitted-level-1) 1pt solid;\n",
              "  color: var(--sklearn-color-unfitted-level-1);\n",
              "}\n",
              "\n",
              ".sk-estimator-doc-link.fitted,\n",
              "a:link.sk-estimator-doc-link.fitted,\n",
              "a:visited.sk-estimator-doc-link.fitted {\n",
              "  /* fitted */\n",
              "  border: var(--sklearn-color-fitted-level-1) 1pt solid;\n",
              "  color: var(--sklearn-color-fitted-level-1);\n",
              "}\n",
              "\n",
              "/* On hover */\n",
              "div.sk-estimator:hover .sk-estimator-doc-link:hover,\n",
              ".sk-estimator-doc-link:hover,\n",
              "div.sk-label-container:hover .sk-estimator-doc-link:hover,\n",
              ".sk-estimator-doc-link:hover {\n",
              "  /* unfitted */\n",
              "  background-color: var(--sklearn-color-unfitted-level-3);\n",
              "  color: var(--sklearn-color-background);\n",
              "  text-decoration: none;\n",
              "}\n",
              "\n",
              "div.sk-estimator.fitted:hover .sk-estimator-doc-link.fitted:hover,\n",
              ".sk-estimator-doc-link.fitted:hover,\n",
              "div.sk-label-container:hover .sk-estimator-doc-link.fitted:hover,\n",
              ".sk-estimator-doc-link.fitted:hover {\n",
              "  /* fitted */\n",
              "  background-color: var(--sklearn-color-fitted-level-3);\n",
              "  color: var(--sklearn-color-background);\n",
              "  text-decoration: none;\n",
              "}\n",
              "\n",
              "/* Span, style for the box shown on hovering the info icon */\n",
              ".sk-estimator-doc-link span {\n",
              "  display: none;\n",
              "  z-index: 9999;\n",
              "  position: relative;\n",
              "  font-weight: normal;\n",
              "  right: .2ex;\n",
              "  padding: .5ex;\n",
              "  margin: .5ex;\n",
              "  width: min-content;\n",
              "  min-width: 20ex;\n",
              "  max-width: 50ex;\n",
              "  color: var(--sklearn-color-text);\n",
              "  box-shadow: 2pt 2pt 4pt #999;\n",
              "  /* unfitted */\n",
              "  background: var(--sklearn-color-unfitted-level-0);\n",
              "  border: .5pt solid var(--sklearn-color-unfitted-level-3);\n",
              "}\n",
              "\n",
              ".sk-estimator-doc-link.fitted span {\n",
              "  /* fitted */\n",
              "  background: var(--sklearn-color-fitted-level-0);\n",
              "  border: var(--sklearn-color-fitted-level-3);\n",
              "}\n",
              "\n",
              ".sk-estimator-doc-link:hover span {\n",
              "  display: block;\n",
              "}\n",
              "\n",
              "/* \"?\"-specific style due to the `<a>` HTML tag */\n",
              "\n",
              "#sk-container-id-2 a.estimator_doc_link {\n",
              "  float: right;\n",
              "  font-size: 1rem;\n",
              "  line-height: 1em;\n",
              "  font-family: monospace;\n",
              "  background-color: var(--sklearn-color-background);\n",
              "  border-radius: 1rem;\n",
              "  height: 1rem;\n",
              "  width: 1rem;\n",
              "  text-decoration: none;\n",
              "  /* unfitted */\n",
              "  color: var(--sklearn-color-unfitted-level-1);\n",
              "  border: var(--sklearn-color-unfitted-level-1) 1pt solid;\n",
              "}\n",
              "\n",
              "#sk-container-id-2 a.estimator_doc_link.fitted {\n",
              "  /* fitted */\n",
              "  border: var(--sklearn-color-fitted-level-1) 1pt solid;\n",
              "  color: var(--sklearn-color-fitted-level-1);\n",
              "}\n",
              "\n",
              "/* On hover */\n",
              "#sk-container-id-2 a.estimator_doc_link:hover {\n",
              "  /* unfitted */\n",
              "  background-color: var(--sklearn-color-unfitted-level-3);\n",
              "  color: var(--sklearn-color-background);\n",
              "  text-decoration: none;\n",
              "}\n",
              "\n",
              "#sk-container-id-2 a.estimator_doc_link.fitted:hover {\n",
              "  /* fitted */\n",
              "  background-color: var(--sklearn-color-fitted-level-3);\n",
              "}\n",
              "</style><div id=\"sk-container-id-2\" class=\"sk-top-container\"><div class=\"sk-text-repr-fallback\"><pre>LinearRegression()</pre><b>In a Jupyter environment, please rerun this cell to show the HTML representation or trust the notebook. <br />On GitHub, the HTML representation is unable to render, please try loading this page with nbviewer.org.</b></div><div class=\"sk-container\" hidden><div class=\"sk-item\"><div class=\"sk-estimator fitted sk-toggleable\"><input class=\"sk-toggleable__control sk-hidden--visually\" id=\"sk-estimator-id-2\" type=\"checkbox\" checked><label for=\"sk-estimator-id-2\" class=\"sk-toggleable__label fitted sk-toggleable__label-arrow fitted\">&nbsp;&nbsp;LinearRegression<a class=\"sk-estimator-doc-link fitted\" rel=\"noreferrer\" target=\"_blank\" href=\"https://scikit-learn.org/1.5/modules/generated/sklearn.linear_model.LinearRegression.html\">?<span>Documentation for LinearRegression</span></a><span class=\"sk-estimator-doc-link fitted\">i<span>Fitted</span></span></label><div class=\"sk-toggleable__content fitted\"><pre>LinearRegression()</pre></div> </div></div></div></div>"
            ],
            "text/plain": [
              "LinearRegression()"
            ]
          },
          "execution_count": 52,
          "metadata": {},
          "output_type": "execute_result"
        }
      ],
      "source": [
        "from sklearn.linear_model import LinearRegression\n",
        "\n",
        "model = LinearRegression()\n",
        "model.fit(X, y)"
      ]
    },
    {
      "cell_type": "raw",
      "id": "b8f33ec4-d38e-4e59-91b5-356392acf1d1",
      "metadata": {
        "id": "b8f33ec4-d38e-4e59-91b5-356392acf1d1"
      },
      "source": [
        "VISUALISASI SIMPLE LINEAR REGRESSION MODEL"
      ]
    },
    {
      "cell_type": "code",
      "execution_count": null,
      "id": "96db912a-cbaf-4160-b825-0bb0835dd312",
      "metadata": {
        "id": "96db912a-cbaf-4160-b825-0bb0835dd312"
      },
      "outputs": [],
      "source": [
        "X_vis = np.array([0, 25]).reshape(-1, 1)\n",
        "y_vis = model.predict(X_vis)"
      ]
    },
    {
      "cell_type": "code",
      "execution_count": null,
      "id": "18f6f4e6-fc85-464e-a09d-3cc07b3864d7",
      "metadata": {
        "id": "18f6f4e6-fc85-464e-a09d-3cc07b3864d7",
        "outputId": "df16b93d-3759-45e1-fc5a-79058342d38b"
      },
      "outputs": [
        {
          "data": {
            "image/png": "[encoded data removed]",
            "text/plain": [
              "<Figure size 640x480 with 1 Axes>"
            ]
          },
          "metadata": {},
          "output_type": "display_data"
        }
      ],
      "source": [
        "plt.scatter(X, y)\n",
        "plt.plot(X_vis, y_vis, '-b')\n",
        "\n",
        "plt.title('Perbandingan harga dan diameter pizza')\n",
        "plt.xlabel('Diameter (inch)')\n",
        "plt.ylabel('Harga (dollar)')\n",
        "plt.xlim(0, 25)\n",
        "plt.ylim(0, 25)\n",
        "plt.grid(True)\n",
        "plt.show()"
      ]
    },
    {
      "cell_type": "raw",
      "id": "c0a7946c-d7b3-44f7-b4db-aaee0b361291",
      "metadata": {
        "id": "c0a7946c-d7b3-44f7-b4db-aaee0b361291"
      },
      "source": [
        "FORMULA LINEAR REGRESSION : y = alpha + beta X"
      ]
    },
    {
      "cell_type": "raw",
      "id": "84b59a5d-fcd7-4daf-a4b5-dca72d4f8cb9",
      "metadata": {
        "id": "84b59a5d-fcd7-4daf-a4b5-dca72d4f8cb9"
      },
      "source": [
        "y : response variable\n",
        "x : explanatory variable\n",
        "alpha : intercept\n",
        "beta : slope"
      ]
    },
    {
      "cell_type": "code",
      "execution_count": null,
      "id": "6c991d19-5712-49dc-bbe0-f421d6faead3",
      "metadata": {
        "id": "6c991d19-5712-49dc-bbe0-f421d6faead3",
        "outputId": "0ecb3097-e015-4897-c82b-b7f03b6012a4"
      },
      "outputs": [
        {
          "name": "stdout",
          "output_type": "stream",
          "text": [
            "intercept: 1.965517241379315\n",
            "slope: [0.9762931]\n"
          ]
        }
      ],
      "source": [
        "print (f'intercept: {model.intercept_}')\n",
        "print (f'slope: {model.coef_}')"
      ]
    },
    {
      "cell_type": "raw",
      "id": "3f169c94-2a65-485f-9872-716c27bacc3e",
      "metadata": {
        "id": "3f169c94-2a65-485f-9872-716c27bacc3e"
      },
      "source": [
        "MENCARI NILAI SLOPE\n",
        "Nilai slope pada Linear regression bisa diperoleh dengan memanfaatkan formula : B = cov(x,y)/var(x)"
      ]
    },
    {
      "cell_type": "code",
      "execution_count": null,
      "id": "41707790-556d-4573-b047-baadbb824235",
      "metadata": {
        "id": "41707790-556d-4573-b047-baadbb824235",
        "outputId": "7cca9fdf-8efd-4f13-80b1-58267eece6da"
      },
      "outputs": [
        {
          "name": "stdout",
          "output_type": "stream",
          "text": [
            "X : \n",
            "[[ 6]\n",
            " [ 8]\n",
            " [10]\n",
            " [14]\n",
            " [18]]\n",
            "\n",
            "X flatten : [ 6  8 10 14 18]\n",
            "\n",
            "y : [ 7.   9.  13.  17.5 18. ]\n"
          ]
        }
      ],
      "source": [
        "print(f'X : \\n{X}\\n')\n",
        "print(f'X flatten : {X.flatten()}\\n')\n",
        "print(f'y : {y}')"
      ]
    },
    {
      "cell_type": "raw",
      "id": "7008d92e-d6d8-458a-b8cd-ccb114d14296",
      "metadata": {
        "id": "7008d92e-d6d8-458a-b8cd-ccb114d14296"
      },
      "source": [
        "VARIANCE"
      ]
    },
    {
      "cell_type": "code",
      "execution_count": null,
      "id": "f53039d9-9bb9-4917-80ae-5c6a1688da7a",
      "metadata": {
        "id": "f53039d9-9bb9-4917-80ae-5c6a1688da7a",
        "outputId": "f4f5b813-3d16-49f5-bb73-c1d8d5d5ff17"
      },
      "outputs": [
        {
          "name": "stdout",
          "output_type": "stream",
          "text": [
            "variance : 23.2\n"
          ]
        }
      ],
      "source": [
        "variance_x = np.var(X.flatten(), ddof=1)\n",
        "\n",
        "print(f'variance : {variance_x}')"
      ]
    },
    {
      "cell_type": "raw",
      "id": "31eea5d9-e8b7-4a3b-b09a-9dca24dc3474",
      "metadata": {
        "id": "31eea5d9-e8b7-4a3b-b09a-9dca24dc3474"
      },
      "source": [
        "COVARIANCE"
      ]
    },
    {
      "cell_type": "code",
      "execution_count": null,
      "id": "aa92e458-9a19-4074-a194-0cb872a053f1",
      "metadata": {
        "id": "aa92e458-9a19-4074-a194-0cb872a053f1",
        "outputId": "ca3032b4-122a-40f2-c37f-c56a8790d074"
      },
      "outputs": [
        {
          "data": {
            "text/plain": [
              "array([[23.2 , 22.65],\n",
              "       [22.65, 24.3 ]])"
            ]
          },
          "execution_count": 58,
          "metadata": {},
          "output_type": "execute_result"
        }
      ],
      "source": [
        "np.cov(X.flatten(), y)"
      ]
    },
    {
      "cell_type": "code",
      "execution_count": null,
      "id": "9c124ed6-da4b-4a71-b2fb-cd5850c448ea",
      "metadata": {
        "id": "9c124ed6-da4b-4a71-b2fb-cd5850c448ea",
        "outputId": "9318c372-1c58-4853-d9ee-6f1d0b96489b"
      },
      "outputs": [
        {
          "name": "stdout",
          "output_type": "stream",
          "text": [
            "covariance : 22.650000000000002\n"
          ]
        }
      ],
      "source": [
        "covariance_xy = np.cov(X.flatten(), y)[0][1]\n",
        "\n",
        "print(f'covariance : {covariance_xy}')"
      ]
    },
    {
      "cell_type": "raw",
      "id": "d62dec50-fdd2-4610-a53f-433bdc6d6252",
      "metadata": {
        "id": "d62dec50-fdd2-4610-a53f-433bdc6d6252"
      },
      "source": [
        "SLOPE"
      ]
    },
    {
      "cell_type": "code",
      "execution_count": null,
      "id": "e004fe47-6410-45cc-a65d-3b1eb5100795",
      "metadata": {
        "id": "e004fe47-6410-45cc-a65d-3b1eb5100795",
        "outputId": "bbf08def-dbf6-4c27-93c0-02f9697b9825"
      },
      "outputs": [
        {
          "name": "stdout",
          "output_type": "stream",
          "text": [
            "slope : 0.976293103448276\n"
          ]
        }
      ],
      "source": [
        "slope = covariance_xy / variance_x\n",
        "\n",
        "print(f'slope : {slope}')"
      ]
    },
    {
      "cell_type": "raw",
      "id": "fb92cccf-05ff-4dac-8d13-c9165e9c8f2b",
      "metadata": {
        "id": "fb92cccf-05ff-4dac-8d13-c9165e9c8f2b"
      },
      "source": [
        "MENCCARI NILAI INTERCEPT\n",
        "pada Linear Regression bisa diperoleh dengan memanfaatkan formula : alpha ="
      ]
    },
    {
      "cell_type": "code",
      "execution_count": null,
      "id": "2de3b117-b888-47de-bef3-a1abe5bbee03",
      "metadata": {
        "id": "2de3b117-b888-47de-bef3-a1abe5bbee03",
        "outputId": "f7eb54ba-9a5f-43d5-c1f6-5e00a7914fd1"
      },
      "outputs": [
        {
          "name": "stdout",
          "output_type": "stream",
          "text": [
            "intercept: 1.9655172413793096\n"
          ]
        }
      ],
      "source": [
        "intercept = np.mean(y) - slope * np.mean(X)\n",
        "\n",
        "print(f'intercept: {intercept}')"
      ]
    },
    {
      "cell_type": "raw",
      "id": "82b5f5ef-5481-48c5-a395-b73b9cfab2a3",
      "metadata": {
        "id": "82b5f5ef-5481-48c5-a395-b73b9cfab2a3"
      },
      "source": [
        "Prediksi Harga PIZZA"
      ]
    },
    {
      "cell_type": "code",
      "execution_count": null,
      "id": "262407f9-98d7-4459-82ea-9a9b25e8b5ee",
      "metadata": {
        "id": "262407f9-98d7-4459-82ea-9a9b25e8b5ee",
        "outputId": "6f7d0968-317a-4e20-a9a1-4a5c888a0cb1"
      },
      "outputs": [
        {
          "data": {
            "text/plain": [
              "array([[12],\n",
              "       [20],\n",
              "       [23]])"
            ]
          },
          "execution_count": 62,
          "metadata": {},
          "output_type": "execute_result"
        }
      ],
      "source": [
        "diameter_pizza = np.array([12, 20, 23]).reshape(-1, 1)\n",
        "diameter_pizza"
      ]
    },
    {
      "cell_type": "code",
      "execution_count": null,
      "id": "62b42baf-4df7-4e7b-8784-b7c4727b7dda",
      "metadata": {
        "id": "62b42baf-4df7-4e7b-8784-b7c4727b7dda",
        "outputId": "beec9619-a88b-4400-fbc6-81a0cc220cc7"
      },
      "outputs": [
        {
          "data": {
            "text/plain": [
              "array([13.68103448, 21.49137931, 24.42025862])"
            ]
          },
          "execution_count": 63,
          "metadata": {},
          "output_type": "execute_result"
        }
      ],
      "source": [
        "prediksi_harga = model.predict(diameter_pizza)\n",
        "prediksi_harga"
      ]
    },
    {
      "cell_type": "code",
      "execution_count": null,
      "id": "30414a0f-436f-4823-829b-24bffba562f9",
      "metadata": {
        "id": "30414a0f-436f-4823-829b-24bffba562f9",
        "outputId": "b96ea26c-8aab-4696-cd17-c3db59798da2"
      },
      "outputs": [
        {
          "name": "stdout",
          "output_type": "stream",
          "text": [
            "Diameter : 13.681034482758621 prediksi harga : 13.681034482758621\n",
            "Diameter : 21.491379310344826 prediksi harga : 21.491379310344826\n",
            "Diameter : 24.42025862068965 prediksi harga : 24.42025862068965\n"
          ]
        }
      ],
      "source": [
        "for dmtr, hrg in zip(prediksi_harga, prediksi_harga):\n",
        "    print(f'Diameter : {dmtr} prediksi harga : {hrg}')"
      ]
    },
    {
      "cell_type": "raw",
      "id": "748b3840-94a1-4450-86ce-05dbc04782a5",
      "metadata": {
        "id": "748b3840-94a1-4450-86ce-05dbc04782a5"
      },
      "source": [
        "EVALUASI SLR MODEL\n",
        "Training & Testing Dataset"
      ]
    },
    {
      "cell_type": "code",
      "execution_count": null,
      "id": "34131ab8-e737-4cbb-9c35-fcb89aa6ea44",
      "metadata": {
        "id": "34131ab8-e737-4cbb-9c35-fcb89aa6ea44"
      },
      "outputs": [],
      "source": [
        "X_train = np.array([6, 8, 10, 14, 18]).reshape(-1, 1)\n",
        "y_train = np.array([7, 9, 13, 17.5, 18])\n",
        "\n",
        "X_test = np.array([8, 9, 11, 16, 12]).reshape(-1, 1)\n",
        "y_test = np.array([11, 8.5, 15, 18, 11])"
      ]
    },
    {
      "cell_type": "raw",
      "id": "670de1cd-1bdb-4a75-84cb-f5ecad1cf1ba",
      "metadata": {
        "id": "670de1cd-1bdb-4a75-84cb-f5ecad1cf1ba"
      },
      "source": [
        "Training SLR Model"
      ]
    },
    {
      "cell_type": "markdown",
      "id": "255d0254-3797-4c0e-9110-a3d9bb705ef6",
      "metadata": {
        "id": "255d0254-3797-4c0e-9110-a3d9bb705ef6"
      },
      "source": [
        "model = LinearRegression()\n",
        "model.fit(X_train(), y_train())"
      ]
    },
    {
      "cell_type": "raw",
      "id": "8de655b1-0ca9-44de-8240-6b261952a6b5",
      "metadata": {
        "id": "8de655b1-0ca9-44de-8240-6b261952a6b5"
      },
      "source": [
        "Evaluasi LR Model dengan Cofficient of Determination atau R-squared(R^2)"
      ]
    },
    {
      "cell_type": "code",
      "execution_count": null,
      "id": "7ed67f5a-0df1-4d00-92ae-91b5bd984b84",
      "metadata": {
        "id": "7ed67f5a-0df1-4d00-92ae-91b5bd984b84",
        "outputId": "c8d1d8b7-8a63-4094-ee94-47af2f425981"
      },
      "outputs": [
        {
          "name": "stdout",
          "output_type": "stream",
          "text": [
            "R-Squared : 0.6620052929422553\n"
          ]
        }
      ],
      "source": [
        "from sklearn.metrics import r2_score\n",
        "y_pred = model.predict(X_test)\n",
        "\n",
        "r_squared = r2_score(y_test, y_pred)\n",
        "\n",
        "print (f'R-Squared : {r_squared}')\n",
        "\n",
        "# r square salah satu teknik evaluasi\n",
        "# semakin mendekati 0, model makin buruk apalagi -(negatif)"
      ]
    },
    {
      "cell_type": "raw",
      "id": "b1371669-5c66-4951-9c8d-4a30fd69568a",
      "metadata": {
        "id": "b1371669-5c66-4951-9c8d-4a30fd69568a"
      },
      "source": [
        "Mencari Nilai R-squared(R^2)"
      ]
    },
    {
      "cell_type": "markdown",
      "id": "1f86ff9b-d08d-4c4b-b3a2-d36d8f22269b",
      "metadata": {
        "id": "1f86ff9b-d08d-4c4b-b3a2-d36d8f22269b"
      },
      "source": [
        "SSres"
      ]
    },
    {
      "cell_type": "code",
      "execution_count": null,
      "id": "e4393cf3-a151-4c17-a861-ca72a176daba",
      "metadata": {
        "id": "e4393cf3-a151-4c17-a861-ca72a176daba",
        "outputId": "0bb61d10-fe8e-4dae-82cf-950611ea1bac"
      },
      "outputs": [
        {
          "name": "stdout",
          "output_type": "stream",
          "text": [
            "ss_res : 19.1980993608799\n"
          ]
        }
      ],
      "source": [
        "ss_res = sum([(y_i - model.predict(x_i.reshape(-1, 1))[0])**2\n",
        "            for x_i, y_i in zip(X_test, y_test)])\n",
        "print (f'ss_res : {ss_res}')"
      ]
    },
    {
      "cell_type": "raw",
      "id": "990efa4c-28f6-47ed-9bd8-24e0078152b1",
      "metadata": {
        "id": "990efa4c-28f6-47ed-9bd8-24e0078152b1"
      },
      "source": [
        "SStot"
      ]
    },
    {
      "cell_type": "code",
      "execution_count": null,
      "id": "db7bcc68-f7a2-41f3-9dd0-83f5d34d89e3",
      "metadata": {
        "id": "db7bcc68-f7a2-41f3-9dd0-83f5d34d89e3",
        "outputId": "8558c3c0-8d1f-478b-9ed0-ecdcd9d102de"
      },
      "outputs": [
        {
          "name": "stdout",
          "output_type": "stream",
          "text": [
            "ss_tot : 56.8\n"
          ]
        }
      ],
      "source": [
        "mean_y = np.mean(y_test)\n",
        "ss_tot = sum([(y_i - mean_y)**2 for y_i in y_test])\n",
        "\n",
        "print (f'ss_tot : {ss_tot}')"
      ]
    },
    {
      "cell_type": "raw",
      "id": "79b42bcb-8b7a-4012-b71b-6f045c9674df",
      "metadata": {
        "id": "79b42bcb-8b7a-4012-b71b-6f045c9674df"
      },
      "source": [
        "R^2"
      ]
    },
    {
      "cell_type": "code",
      "execution_count": null,
      "id": "dc512100-567b-4c7b-8182-975abfb516d5",
      "metadata": {
        "id": "dc512100-567b-4c7b-8182-975abfb516d5",
        "outputId": "1eab6195-f017-4d70-b974-d0d6eec3e9ec"
      },
      "outputs": [
        {
          "name": "stdout",
          "output_type": "stream",
          "text": [
            "R-Squared : 0.6620052929422553\n"
          ]
        }
      ],
      "source": [
        "r_squared = 1 - (ss_res / ss_tot)\n",
        "\n",
        "print (f'R-Squared : {r_squared}')"
      ]
    }
  ],
  "metadata": {
    "kernelspec": {
      "display_name": "Python 3 (ipykernel)",
      "language": "python",
      "name": "python3"
    },
    "language_info": {
      "codemirror_mode": {
        "name": "ipython",
        "version": 3
      },
      "file_extension": ".py",
      "mimetype": "text/x-python",
      "name": "python",
      "nbconvert_exporter": "python",
      "pygments_lexer": "ipython3",
      "version": "3.12.7"
    },
    "colab": {
      "provenance": [],
      "include_colab_link": true
    }
  },
  "nbformat": 4,
  "nbformat_minor": 5
}